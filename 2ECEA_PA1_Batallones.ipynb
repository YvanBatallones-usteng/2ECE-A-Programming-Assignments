{
 "cells": [
  {
   "cell_type": "markdown",
   "id": "8c60d25b-4c75-41d0-8307-5c029dbaaa33",
   "metadata": {},
   "source": [
    "ALPHABET SOUP PROBLEM"
   ]
  },
  {
   "cell_type": "code",
   "execution_count": 31,
   "id": "eb49c348-6924-4e8b-a3b8-a84ee78581f3",
   "metadata": {},
   "outputs": [
    {
     "name": "stdout",
     "output_type": "stream",
     "text": [
      "abbcdeilmoostu\n"
     ]
    }
   ],
   "source": [
    "#Declaration of String\n",
    "alphabet_soup = 'discombobulate' \n",
    "#Sort -> Join -> print \n",
    "print(''.join(sorted(alphabet_soup)))"
   ]
  },
  {
   "cell_type": "markdown",
   "id": "e2a0df5d-929f-464a-9adc-b7d6772abe20",
   "metadata": {},
   "source": [
    "EMOTICON PROBLEM"
   ]
  },
  {
   "cell_type": "code",
   "execution_count": 22,
   "id": "29f3729e-cfb8-4b83-a9ee-cd722dee5a20",
   "metadata": {},
   "outputs": [
    {
     "name": "stdin",
     "output_type": "stream",
     "text": [
      " print I am smileing\n"
     ]
    },
    {
     "name": "stdout",
     "output_type": "stream",
     "text": [
      "print I am :)ing\n"
     ]
    }
   ],
   "source": [
    "#Input string \n",
    "string = input()\n",
    "#Check for smile/grin/sad/mad and replace, then print \n",
    "if \"smile\" in string:\n",
    "    print(string.replace(\"smile\",\":)\"))\n",
    "elif \"grin\" in string:\n",
    "    print(string.replace(\"grin\",\":D\"))\n",
    "elif \"sad\" in string:\n",
    "    print(string.replace(\"sad\",\":(\"))\n",
    "elif \"mad\" in string:\n",
    "    print(string.replace(\"mad\",\">:(\"))"
   ]
  },
  {
   "cell_type": "markdown",
   "id": "aa665f66-7b9d-4abe-98aa-73f10ede72fa",
   "metadata": {},
   "source": [
    "UNPACKING LIST PROBLEM"
   ]
  },
  {
   "cell_type": "code",
   "execution_count": 32,
   "id": "5725425b-4d8d-4ab2-a94f-7c7feac6f288",
   "metadata": {},
   "outputs": [
    {
     "name": "stdout",
     "output_type": "stream",
     "text": [
      "first:  1 \tmiddle:  [2, 3, 4, 5] \tlast:  6\n"
     ]
    }
   ],
   "source": [
    "writeyourcodehere = [1,2,3,4,5,6]\n",
    "#Get then remove first index of the list \n",
    "First = writeyourcodehere[0]\n",
    "del writeyourcodehere[0]\n",
    "#Get then remove the last index of the list \n",
    "Last = writeyourcodehere[-1]\n",
    "del writeyourcodehere[-1]\n",
    "#Print\n",
    "print('first: ',First,'\\tmiddle: ',writeyourcodehere,'\\tlast: ',Last)"
   ]
  }
 ],
 "metadata": {
  "kernelspec": {
   "display_name": "Python [conda env:base] *",
   "language": "python",
   "name": "conda-base-py"
  },
  "language_info": {
   "codemirror_mode": {
    "name": "ipython",
    "version": 3
   },
   "file_extension": ".py",
   "mimetype": "text/x-python",
   "name": "python",
   "nbconvert_exporter": "python",
   "pygments_lexer": "ipython3",
   "version": "3.13.5"
  }
 },
 "nbformat": 4,
 "nbformat_minor": 5
}
